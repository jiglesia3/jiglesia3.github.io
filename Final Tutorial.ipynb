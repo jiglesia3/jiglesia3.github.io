{
 "cells": [
  {
   "cell_type": "markdown",
   "metadata": {},
   "source": [
    "<img src=\"https://cdn3.dualshockers.com/wp-content/uploads/2015/11/Tom-Clancys-Rainbow-Six-Siege.jpg\" alt=\"Drawing\" style=\"width: 700px;\"/>\n",
    "<center>\n",
    "<h1 style=\"font-size:36px;\">Analyzing Rainbow Six Siege</h1>\n",
    "<h4>\n",
    "Charles Liu, Jules Iglesia</h4>\n",
    "<hr>\n",
    "<h1>Introduction</h1>\n",
    "</center>\n",
    "<body><p>\n",
    "Rainbow Six Siege (R6S) is a MMORTG (Massively Multiplayer Online Real Time Strategy) first-person shooter game developed by Ubisoft. Released in December 2015, Siege only recently gained popularity and boasts 2.3 million players daily with over 25 million registered users. The premise of the game is simple: each game consists of two teams of 5 players, with one team labeled as the Attackers and one as the Defenders. Attackers are assigned a goal depending on the game mode, which ranges from extracting a hostage from a building or planting/detonating a bomb in a building. Each game consists of best of 5 or 7 rounds, with each round ending if the Attackers objective is completed within a timeframe, time runs out, or all members of one side are eliminated. Players currently can choose from 68 maps, 36 unique operators, and what loadouts (primary weapon, secondary weapon, etc.) to use. *Full details can be found <a href=\"https://rainbow6.ubisoft.com/siege/en-us/game-info/index.aspx\">here</a>. \n",
    "<p>\n",
    "On June 27, 2017, a Game Intelligence Analyst on the Ubisoft R6S Development Team released datasets covering various metrics from in-game data. Along with this <a href=\"https://rainbow6.ubisoft.com/siege/en-us/news/152-293696-16/introduction-to-the-data-peek-velvet-shell-statistics\">data release</a>, he revealed that analysts at Ubisoft work with several different teams and play an important role in the overall development of the game. Given the interesting statistics they were able to find, the Development Team decided to release some in-game data as a way to allow members of the community to conduct some of their own data analyses.\n",
    "<p> \n",
    "In this tutorial, our goal is to tidy the in-game data given to us, provide valuable insight into which operators/loadouts are the most successful in terms of win rate/kill-death ratio, and predict these win/kill-death ratios when a certain character and loadout are chosen in different situations. For readers unfamiliar with this game, we hope this analyses will make them interested in trying out Rainbow Six Siege and provide some evidence on which operators are best to pick starting out as a new player. For experienced players, we hope to show interesting unknown statistics and maybe even give them new things to try when they play. \n",
    "<hr>\n",
    "<center><h1>Getting Started with the Data</h1></center>\n",
    "<body><p>\n",
    "We make use of Python 3 along with a few imported libraries: pandas, numpy, matplotlib, scikit-learn, seaborn, and more. \n",
    "</body>\n"
   ]
  },
  {
   "cell_type": "code",
   "execution_count": 1,
   "metadata": {
    "collapsed": true
   },
   "outputs": [],
   "source": [
    "# Necessary libraries and imports to complete this tutorial\n",
    "import pandas as pd\n",
    "import numpy as np\n",
    "import matplotlib.pyplot as plt\n",
    "from sklearn import linear_model\n",
    "from sklearn import feature_selection\n",
    "from sklearn.preprocessing import PolynomialFeatures\n",
    "import seaborn as sns\n",
    "import sklearn\n",
    "import warnings\n",
    "warnings.filterwarnings('ignore')"
   ]
  },
  {
   "cell_type": "markdown",
   "metadata": {},
   "source": [
    "<body>\n",
    "The two datasets we will be using are found at the bottom of the <a href=\"https://rainbow6.ubisoft.com/siege/en-us/news/152-293696-16/introduction-to-the-data-peek-velvet-shell-statistics\">data release</a> mentioned earlier (Operator Loadouts Data and Objectives Data). Each dataset comes in the form of a CSV (Comma Separated Value) file.\n",
    "<h2>Preprocessing the Data</h2>\n",
    "<p>\n",
    "Before running the code to read in the Objectives file, we had to preprocess the data using Excel and any text editor. The Objectives dataset was huge, so to have a more manageably sized dataframe we grabbed approximately the first million lines and verified the platform was PC for each entry. Additionally, when we tried to initially read in the downloaded Objectives CSV, pandas raised errors and had issues with the 'ñ' character present in every row in the \"gamemode\" column, so we changed every instance of 'ñ' to '.' with a text editor. On the other hand, the Operators dataset was fine.\n",
    "<p>\n",
    "You could do this yourself, but we have already gone ahead and modified it for you. The ZIP file for both datasets can be found <a href=\"https://github.com/jiglesia3/jiglesia3.github.io/blob/master/datasets.zip\">here</a>. Now we read in both CSV files using Pandas, with the ';' separator.\n",
    "</body>"
   ]
  },
  {
   "cell_type": "markdown",
   "metadata": {},
   "source": [
    "<h2> A Quick Rundown </h2>"
   ]
  },
  {
   "cell_type": "code",
   "execution_count": 2,
   "metadata": {},
   "outputs": [
    {
     "data": {
      "text/html": [
       "<div>\n",
       "<table border=\"1\" class=\"dataframe\">\n",
       "  <thead>\n",
       "    <tr style=\"text-align: right;\">\n",
       "      <th></th>\n",
       "      <th>platform</th>\n",
       "      <th>dateid</th>\n",
       "      <th>skillrank</th>\n",
       "      <th>role</th>\n",
       "      <th>operator</th>\n",
       "      <th>primaryweapon</th>\n",
       "      <th>secondaryweapon</th>\n",
       "      <th>secondarygadget</th>\n",
       "      <th>nbwins</th>\n",
       "      <th>nbkills</th>\n",
       "      <th>nbdeaths</th>\n",
       "      <th>nbpicks</th>\n",
       "    </tr>\n",
       "  </thead>\n",
       "  <tbody>\n",
       "    <tr>\n",
       "      <th>0</th>\n",
       "      <td>PC</td>\n",
       "      <td>20170210</td>\n",
       "      <td>Bronze</td>\n",
       "      <td>Attacker</td>\n",
       "      <td>BOPE-CAPITAO</td>\n",
       "      <td>M249</td>\n",
       "      <td>PRB92</td>\n",
       "      <td>CLAYMORE</td>\n",
       "      <td>6</td>\n",
       "      <td>6</td>\n",
       "      <td>6</td>\n",
       "      <td>8</td>\n",
       "    </tr>\n",
       "    <tr>\n",
       "      <th>1</th>\n",
       "      <td>PC</td>\n",
       "      <td>20170210</td>\n",
       "      <td>Bronze</td>\n",
       "      <td>Attacker</td>\n",
       "      <td>BOPE-CAPITAO</td>\n",
       "      <td>M249</td>\n",
       "      <td>PRB92</td>\n",
       "      <td>STUN GRENADE</td>\n",
       "      <td>4</td>\n",
       "      <td>2</td>\n",
       "      <td>6</td>\n",
       "      <td>8</td>\n",
       "    </tr>\n",
       "    <tr>\n",
       "      <th>2</th>\n",
       "      <td>PC</td>\n",
       "      <td>20170210</td>\n",
       "      <td>Bronze</td>\n",
       "      <td>Attacker</td>\n",
       "      <td>BOPE-CAPITAO</td>\n",
       "      <td>PARA-308</td>\n",
       "      <td>PRB92</td>\n",
       "      <td>CLAYMORE</td>\n",
       "      <td>37</td>\n",
       "      <td>40</td>\n",
       "      <td>49</td>\n",
       "      <td>70</td>\n",
       "    </tr>\n",
       "    <tr>\n",
       "      <th>3</th>\n",
       "      <td>PC</td>\n",
       "      <td>20170210</td>\n",
       "      <td>Bronze</td>\n",
       "      <td>Attacker</td>\n",
       "      <td>BOPE-CAPITAO</td>\n",
       "      <td>PARA-308</td>\n",
       "      <td>PRB92</td>\n",
       "      <td>STUN GRENADE</td>\n",
       "      <td>17</td>\n",
       "      <td>24</td>\n",
       "      <td>31</td>\n",
       "      <td>41</td>\n",
       "    </tr>\n",
       "    <tr>\n",
       "      <th>4</th>\n",
       "      <td>PC</td>\n",
       "      <td>20170210</td>\n",
       "      <td>Bronze</td>\n",
       "      <td>Attacker</td>\n",
       "      <td>G.E.O.-JACKAL</td>\n",
       "      <td>C7E</td>\n",
       "      <td>ITA12S</td>\n",
       "      <td>BREACH CHARGE</td>\n",
       "      <td>74</td>\n",
       "      <td>123</td>\n",
       "      <td>127</td>\n",
       "      <td>174</td>\n",
       "    </tr>\n",
       "  </tbody>\n",
       "</table>\n",
       "</div>"
      ],
      "text/plain": [
       "  platform    dateid skillrank      role       operator primaryweapon  \\\n",
       "0       PC  20170210    Bronze  Attacker   BOPE-CAPITAO          M249   \n",
       "1       PC  20170210    Bronze  Attacker   BOPE-CAPITAO          M249   \n",
       "2       PC  20170210    Bronze  Attacker   BOPE-CAPITAO      PARA-308   \n",
       "3       PC  20170210    Bronze  Attacker   BOPE-CAPITAO      PARA-308   \n",
       "4       PC  20170210    Bronze  Attacker  G.E.O.-JACKAL           C7E   \n",
       "\n",
       "  secondaryweapon secondarygadget  nbwins  nbkills  nbdeaths  nbpicks  \n",
       "0           PRB92        CLAYMORE       6        6         6        8  \n",
       "1           PRB92    STUN GRENADE       4        2         6        8  \n",
       "2           PRB92        CLAYMORE      37       40        49       70  \n",
       "3           PRB92    STUN GRENADE      17       24        31       41  \n",
       "4          ITA12S   BREACH CHARGE      74      123       127      174  "
      ]
     },
     "execution_count": 2,
     "metadata": {},
     "output_type": "execute_result"
    }
   ],
   "source": [
    "operators = pd.read_csv(\"S5_operators.csv\", sep=';')\n",
    "objectives = pd.read_csv(\"S5_objectives.csv\", sep=';')\n",
    "operators.head()"
   ]
  },
  {
   "cell_type": "markdown",
   "metadata": {},
   "source": [
    "In the above Operators dataset, there are 12 columns. We have the platform (PC, PS4, or Xbox One), dateid, skillrank (more information can be found <a href = "
   ]
  },
  {
   "cell_type": "code",
   "execution_count": 4,
   "metadata": {
    "scrolled": false
   },
   "outputs": [
    {
     "data": {
      "text/html": [
       "<div>\n",
       "<table border=\"1\" class=\"dataframe\">\n",
       "  <thead>\n",
       "    <tr style=\"text-align: right;\">\n",
       "      <th></th>\n",
       "      <th>platform</th>\n",
       "      <th>dateid</th>\n",
       "      <th>gamemode</th>\n",
       "      <th>mapname</th>\n",
       "      <th>objectivelocation</th>\n",
       "      <th>skillrank</th>\n",
       "      <th>role</th>\n",
       "      <th>operator</th>\n",
       "      <th>nbwins</th>\n",
       "      <th>nbkills</th>\n",
       "      <th>nbdeaths</th>\n",
       "      <th>nbpicks</th>\n",
       "    </tr>\n",
       "  </thead>\n",
       "  <tbody>\n",
       "    <tr>\n",
       "      <th>0</th>\n",
       "      <td>PC</td>\n",
       "      <td>20170210</td>\n",
       "      <td>PvP . BOMB</td>\n",
       "      <td>BANK</td>\n",
       "      <td>EXECUTIVE LOUNGE / CEO OFFICE</td>\n",
       "      <td>Bronze</td>\n",
       "      <td>Attacker</td>\n",
       "      <td>G.E.O.-JACKAL</td>\n",
       "      <td>0</td>\n",
       "      <td>0</td>\n",
       "      <td>1</td>\n",
       "      <td>1</td>\n",
       "    </tr>\n",
       "    <tr>\n",
       "      <th>1</th>\n",
       "      <td>PC</td>\n",
       "      <td>20170210</td>\n",
       "      <td>PvP . BOMB</td>\n",
       "      <td>BANK</td>\n",
       "      <td>EXECUTIVE LOUNGE / CEO OFFICE</td>\n",
       "      <td>Bronze</td>\n",
       "      <td>Attacker</td>\n",
       "      <td>GIGN-MONTAGNE</td>\n",
       "      <td>1</td>\n",
       "      <td>0</td>\n",
       "      <td>2</td>\n",
       "      <td>3</td>\n",
       "    </tr>\n",
       "    <tr>\n",
       "      <th>2</th>\n",
       "      <td>PC</td>\n",
       "      <td>20170210</td>\n",
       "      <td>PvP . BOMB</td>\n",
       "      <td>BANK</td>\n",
       "      <td>EXECUTIVE LOUNGE / CEO OFFICE</td>\n",
       "      <td>Bronze</td>\n",
       "      <td>Attacker</td>\n",
       "      <td>GSG9-IQ</td>\n",
       "      <td>0</td>\n",
       "      <td>0</td>\n",
       "      <td>1</td>\n",
       "      <td>1</td>\n",
       "    </tr>\n",
       "    <tr>\n",
       "      <th>3</th>\n",
       "      <td>PC</td>\n",
       "      <td>20170210</td>\n",
       "      <td>PvP . BOMB</td>\n",
       "      <td>BANK</td>\n",
       "      <td>EXECUTIVE LOUNGE / CEO OFFICE</td>\n",
       "      <td>Bronze</td>\n",
       "      <td>Attacker</td>\n",
       "      <td>JTF2-BUCK</td>\n",
       "      <td>0</td>\n",
       "      <td>0</td>\n",
       "      <td>1</td>\n",
       "      <td>1</td>\n",
       "    </tr>\n",
       "    <tr>\n",
       "      <th>4</th>\n",
       "      <td>PC</td>\n",
       "      <td>20170210</td>\n",
       "      <td>PvP . BOMB</td>\n",
       "      <td>BANK</td>\n",
       "      <td>EXECUTIVE LOUNGE / CEO OFFICE</td>\n",
       "      <td>Bronze</td>\n",
       "      <td>Attacker</td>\n",
       "      <td>SAS-THATCHER</td>\n",
       "      <td>0</td>\n",
       "      <td>0</td>\n",
       "      <td>1</td>\n",
       "      <td>1</td>\n",
       "    </tr>\n",
       "  </tbody>\n",
       "</table>\n",
       "</div>"
      ],
      "text/plain": [
       "  platform    dateid    gamemode mapname              objectivelocation  \\\n",
       "0       PC  20170210  PvP . BOMB    BANK  EXECUTIVE LOUNGE / CEO OFFICE   \n",
       "1       PC  20170210  PvP . BOMB    BANK  EXECUTIVE LOUNGE / CEO OFFICE   \n",
       "2       PC  20170210  PvP . BOMB    BANK  EXECUTIVE LOUNGE / CEO OFFICE   \n",
       "3       PC  20170210  PvP . BOMB    BANK  EXECUTIVE LOUNGE / CEO OFFICE   \n",
       "4       PC  20170210  PvP . BOMB    BANK  EXECUTIVE LOUNGE / CEO OFFICE   \n",
       "\n",
       "  skillrank      role       operator  nbwins  nbkills  nbdeaths  nbpicks  \n",
       "0    Bronze  Attacker  G.E.O.-JACKAL       0        0         1        1  \n",
       "1    Bronze  Attacker  GIGN-MONTAGNE       1        0         2        3  \n",
       "2    Bronze  Attacker        GSG9-IQ       0        0         1        1  \n",
       "3    Bronze  Attacker      JTF2-BUCK       0        0         1        1  \n",
       "4    Bronze  Attacker   SAS-THATCHER       0        0         1        1  "
      ]
     },
     "execution_count": 4,
     "metadata": {},
     "output_type": "execute_result"
    }
   ],
   "source": [
    "objectives.head()"
   ]
  },
  {
   "cell_type": "markdown",
   "metadata": {},
   "source": [
    "<h2> Talk about Data Here </h2>"
   ]
  },
  {
   "cell_type": "markdown",
   "metadata": {},
   "source": [
    "<h2> Tidying and Modifying the Data </h2>\n",
    "<p>\n",
    "As PC players, we we want to only look at data with PC (no PS4 or Xbox One) as the platform. We have manually already done this with the Objectives dataset, now we just have to filter through the Operators dataset. Once that's been done, we will remove the platform column because all our data only involves the PC platform. \n",
    "<p>\n",
    "We will remove the 'primaryweapon', 'secondaryweapon', and 'secondarygadget' columns because it's a little too complicated for the purpose of this tutorial. Doing this will allow us to collapse the dataframe and sum up the number of wins ('nbwins'), number of kills ('nbkills'), number of deaths ('nbdeaths'), and number of picks('nbpicks') for each respective operator. Also just wanted to note that there is a default character in the game, which is seen in the dataset as \"RESERVE.\" There are multiple types of default characters that have different stats and loadouts, as denoted by the prefix.\n",
    "<p>\n",
    "The kill-death and win ratios aren't calculated for us, so we will also need to add these two columns to each dataframe. In the context of this game, kill-death and win ratios are more significant because both show averages per game as opposed to just the total number of kills or deaths. We will calculate both using two simple formulas:\n",
    "<p>\n",
    "k/d ratio = $\\frac{nbkills}{nbdeaths}$\n",
    "<p>\n",
    "win ratio = $\\frac{nbwins}{nbpicks}$\n"
   ]
  },
  {
   "cell_type": "code",
   "execution_count": 5,
   "metadata": {},
   "outputs": [
    {
     "data": {
      "text/html": [
       "<div>\n",
       "<table border=\"1\" class=\"dataframe\">\n",
       "  <thead>\n",
       "    <tr style=\"text-align: right;\">\n",
       "      <th></th>\n",
       "      <th>role</th>\n",
       "      <th>operator</th>\n",
       "      <th>nbwins</th>\n",
       "      <th>nbkills</th>\n",
       "      <th>nbdeaths</th>\n",
       "      <th>nbpicks</th>\n",
       "      <th>k/d_ratio</th>\n",
       "      <th>win_ratio</th>\n",
       "    </tr>\n",
       "  </thead>\n",
       "  <tbody>\n",
       "    <tr>\n",
       "      <th>0</th>\n",
       "      <td>Attacker</td>\n",
       "      <td>BOPE-CAPITAO</td>\n",
       "      <td>65205</td>\n",
       "      <td>89647</td>\n",
       "      <td>101216</td>\n",
       "      <td>138254</td>\n",
       "      <td>0.885700</td>\n",
       "      <td>0.471632</td>\n",
       "    </tr>\n",
       "    <tr>\n",
       "      <th>1</th>\n",
       "      <td>Attacker</td>\n",
       "      <td>G.E.O.-JACKAL</td>\n",
       "      <td>193793</td>\n",
       "      <td>304650</td>\n",
       "      <td>291541</td>\n",
       "      <td>405461</td>\n",
       "      <td>1.044965</td>\n",
       "      <td>0.477957</td>\n",
       "    </tr>\n",
       "    <tr>\n",
       "      <th>2</th>\n",
       "      <td>Attacker</td>\n",
       "      <td>GIGN-MONTAGNE</td>\n",
       "      <td>98517</td>\n",
       "      <td>81475</td>\n",
       "      <td>155090</td>\n",
       "      <td>216753</td>\n",
       "      <td>0.525340</td>\n",
       "      <td>0.454513</td>\n",
       "    </tr>\n",
       "    <tr>\n",
       "      <th>3</th>\n",
       "      <td>Attacker</td>\n",
       "      <td>GIGN-RESERVE</td>\n",
       "      <td>2558</td>\n",
       "      <td>2941</td>\n",
       "      <td>4469</td>\n",
       "      <td>5954</td>\n",
       "      <td>0.658089</td>\n",
       "      <td>0.429627</td>\n",
       "    </tr>\n",
       "    <tr>\n",
       "      <th>4</th>\n",
       "      <td>Attacker</td>\n",
       "      <td>GIGN-TWITCH</td>\n",
       "      <td>227325</td>\n",
       "      <td>328186</td>\n",
       "      <td>317090</td>\n",
       "      <td>469867</td>\n",
       "      <td>1.034993</td>\n",
       "      <td>0.483807</td>\n",
       "    </tr>\n",
       "  </tbody>\n",
       "</table>\n",
       "</div>"
      ],
      "text/plain": [
       "       role       operator  nbwins  nbkills  nbdeaths  nbpicks  k/d_ratio  \\\n",
       "0  Attacker   BOPE-CAPITAO   65205    89647    101216   138254   0.885700   \n",
       "1  Attacker  G.E.O.-JACKAL  193793   304650    291541   405461   1.044965   \n",
       "2  Attacker  GIGN-MONTAGNE   98517    81475    155090   216753   0.525340   \n",
       "3  Attacker   GIGN-RESERVE    2558     2941      4469     5954   0.658089   \n",
       "4  Attacker    GIGN-TWITCH  227325   328186    317090   469867   1.034993   \n",
       "\n",
       "   win_ratio  \n",
       "0   0.471632  \n",
       "1   0.477957  \n",
       "2   0.454513  \n",
       "3   0.429627  \n",
       "4   0.483807  "
      ]
     },
     "execution_count": 5,
     "metadata": {},
     "output_type": "execute_result"
    }
   ],
   "source": [
    "# Only PC platform rows, then deleting platform, primaryweapon, secondaryweapon, and gadget columns\n",
    "operators = operators.loc[operators['platform'] == ('PC')]\n",
    "del operators['platform']\n",
    "del operators['primaryweapon']\n",
    "del operators['secondaryweapon']\n",
    "del operators['secondarygadget']\n",
    "\n",
    "# Create dataframe to sum up rounds won, kills, deaths, and rounds played across all ranks for each operator\n",
    "operators_overall = operators.groupby(['role', 'operator'], as_index=False)['nbwins', 'nbkills', 'nbdeaths', 'nbpicks'].sum()\n",
    "\n",
    "# Adding k/d and win ratio columns\n",
    "operators_overall['k/d_ratio'] = pd.to_numeric(operators_overall['nbkills']) / pd.to_numeric(operators_overall['nbdeaths'])\n",
    "operators_overall['win_ratio'] = pd.to_numeric(operators_overall['nbwins']) / pd.to_numeric(operators_overall['nbpicks'])\n",
    "operators_overall.head()"
   ]
  },
  {
   "cell_type": "markdown",
   "metadata": {},
   "source": [
    "<body>\n",
    "Moving on to modifying the Objectives dataframe, we will start with noticing that all types under the \"gamemode\" column are preceded by 'PvP . '. All rows in the data are PvP anyway, so we will remove this prefix. As proof, here's a small code snippet to show all different gamemodes currently contained in the objectives dataframe.\n",
    "</body>"
   ]
  },
  {
   "cell_type": "code",
   "execution_count": 6,
   "metadata": {},
   "outputs": [
    {
     "name": "stdout",
     "output_type": "stream",
     "text": [
      "['PvP . BOMB' 'PvP . HOSTAGE' 'PvP . SECURE AREA']\n"
     ]
    }
   ],
   "source": [
    "print(objectives['gamemode'].unique())"
   ]
  },
  {
   "cell_type": "markdown",
   "metadata": {},
   "source": [
    "We can remove the 'PvP . ' prefix using Pandas.Series.replace as shown below. "
   ]
  },
  {
   "cell_type": "code",
   "execution_count": 7,
   "metadata": {},
   "outputs": [
    {
     "name": "stdout",
     "output_type": "stream",
     "text": [
      "['BOMB' 'HOSTAGE' 'SECURE AREA']\n"
     ]
    }
   ],
   "source": [
    "# Grabbing all values under the column gamemode\n",
    "gamemodes = objectives['gamemode']\n",
    "\n",
    "# Using replace to remove the prefix\n",
    "gamemodes.replace(to_replace='PvP . ', value='', regex=True, inplace=True)\n",
    "objectives['gamemode'] = gamemodes\n",
    "print(objectives['gamemode'].unique())"
   ]
  },
  {
   "cell_type": "markdown",
   "metadata": {},
   "source": [
    "Now we will do something similar to the Objectives dataframe as done to the Operators dataframe: remove the 'primaryweapon', 'secondaryweapon', and 'secondarygadget' columns, and add both the Kill-death and win ratio columns."
   ]
  },
  {
   "cell_type": "code",
   "execution_count": 8,
   "metadata": {
    "scrolled": true
   },
   "outputs": [
    {
     "data": {
      "text/html": [
       "<div>\n",
       "<table border=\"1\" class=\"dataframe\">\n",
       "  <thead>\n",
       "    <tr style=\"text-align: right;\">\n",
       "      <th></th>\n",
       "      <th>gamemode</th>\n",
       "      <th>mapname</th>\n",
       "      <th>role</th>\n",
       "      <th>operator</th>\n",
       "      <th>nbwins</th>\n",
       "      <th>nbkills</th>\n",
       "      <th>nbdeaths</th>\n",
       "      <th>nbpicks</th>\n",
       "      <th>k/d_ratio</th>\n",
       "      <th>win_ratio</th>\n",
       "    </tr>\n",
       "  </thead>\n",
       "  <tbody>\n",
       "    <tr>\n",
       "      <th>0</th>\n",
       "      <td>BOMB</td>\n",
       "      <td>BANK</td>\n",
       "      <td>Attacker</td>\n",
       "      <td>BOPE-CAPITAO</td>\n",
       "      <td>742</td>\n",
       "      <td>1053</td>\n",
       "      <td>1181</td>\n",
       "      <td>1609</td>\n",
       "      <td>0.891617</td>\n",
       "      <td>0.461156</td>\n",
       "    </tr>\n",
       "    <tr>\n",
       "      <th>1</th>\n",
       "      <td>BOMB</td>\n",
       "      <td>BANK</td>\n",
       "      <td>Attacker</td>\n",
       "      <td>G.E.O.-JACKAL</td>\n",
       "      <td>2506</td>\n",
       "      <td>4153</td>\n",
       "      <td>3828</td>\n",
       "      <td>5400</td>\n",
       "      <td>1.084901</td>\n",
       "      <td>0.464074</td>\n",
       "    </tr>\n",
       "    <tr>\n",
       "      <th>2</th>\n",
       "      <td>BOMB</td>\n",
       "      <td>BANK</td>\n",
       "      <td>Attacker</td>\n",
       "      <td>GIGN-MONTAGNE</td>\n",
       "      <td>1161</td>\n",
       "      <td>979</td>\n",
       "      <td>1909</td>\n",
       "      <td>2651</td>\n",
       "      <td>0.512834</td>\n",
       "      <td>0.437948</td>\n",
       "    </tr>\n",
       "    <tr>\n",
       "      <th>3</th>\n",
       "      <td>BOMB</td>\n",
       "      <td>BANK</td>\n",
       "      <td>Attacker</td>\n",
       "      <td>GIGN-RESERVE</td>\n",
       "      <td>15</td>\n",
       "      <td>15</td>\n",
       "      <td>35</td>\n",
       "      <td>45</td>\n",
       "      <td>0.428571</td>\n",
       "      <td>0.333333</td>\n",
       "    </tr>\n",
       "    <tr>\n",
       "      <th>4</th>\n",
       "      <td>BOMB</td>\n",
       "      <td>BANK</td>\n",
       "      <td>Attacker</td>\n",
       "      <td>GIGN-TWITCH</td>\n",
       "      <td>2444</td>\n",
       "      <td>3813</td>\n",
       "      <td>3682</td>\n",
       "      <td>5334</td>\n",
       "      <td>1.035578</td>\n",
       "      <td>0.458193</td>\n",
       "    </tr>\n",
       "  </tbody>\n",
       "</table>\n",
       "</div>"
      ],
      "text/plain": [
       "  gamemode mapname      role       operator  nbwins  nbkills  nbdeaths  \\\n",
       "0     BOMB    BANK  Attacker   BOPE-CAPITAO     742     1053      1181   \n",
       "1     BOMB    BANK  Attacker  G.E.O.-JACKAL    2506     4153      3828   \n",
       "2     BOMB    BANK  Attacker  GIGN-MONTAGNE    1161      979      1909   \n",
       "3     BOMB    BANK  Attacker   GIGN-RESERVE      15       15        35   \n",
       "4     BOMB    BANK  Attacker    GIGN-TWITCH    2444     3813      3682   \n",
       "\n",
       "   nbpicks  k/d_ratio  win_ratio  \n",
       "0     1609   0.891617   0.461156  \n",
       "1     5400   1.084901   0.464074  \n",
       "2     2651   0.512834   0.437948  \n",
       "3       45   0.428571   0.333333  \n",
       "4     5334   1.035578   0.458193  "
      ]
     },
     "execution_count": 8,
     "metadata": {},
     "output_type": "execute_result"
    }
   ],
   "source": [
    "# Deleting platform column\n",
    "del objectives['platform']\n",
    "\n",
    "# Create dataframe to sum up rounds won, kills, deaths, and rounds played across all ranks for each operator, gamemode, and  map\n",
    "objectives_overall = objectives.groupby(['gamemode', 'mapname', 'role', 'operator'], \\\n",
    "                                        as_index=False)['nbwins', 'nbkills', 'nbdeaths', 'nbpicks'].sum()\n",
    "\n",
    "# Adding k/d and win ratio columns\n",
    "objectives_overall['k/d_ratio'] = pd.to_numeric(objectives_overall['nbkills']) / pd.to_numeric(objectives_overall['nbdeaths'])\n",
    "objectives_overall['win_ratio'] = pd.to_numeric(objectives_overall['nbwins']) / pd.to_numeric(objectives_overall['nbpicks'])\n",
    "objectives_overall.head()"
   ]
  },
  {
   "cell_type": "markdown",
   "metadata": {},
   "source": [
    "Perfect! Now that we've set up and simplified our data, it's time to investigate and perform analysis on the two datasets we have. "
   ]
  },
  {
   "cell_type": "markdown",
   "metadata": {},
   "source": [
    "<center>\n",
    "<h3>Map: Chalet</h3>\n",
    "<img src=\"https://ubistatic19-a.akamaihd.net/resource/en-us/game/rainbow6/siege/r6-game-info-map-chalet-01_227824.jpg\" alt=\"Drawing\" style=\"width: 700px;\"/>\n",
    "</center>"
   ]
  },
  {
   "cell_type": "markdown",
   "metadata": {},
   "source": [
    "<hr>\n",
    "<center><h1>Exploratory Data Analysis</h1></center>"
   ]
  },
  {
   "cell_type": "code",
   "execution_count": 9,
   "metadata": {},
   "outputs": [
    {
     "data": {
      "image/png": "[encoded data removed]",
      "text/plain": [
       "<matplotlib.figure.Figure at 0x7fc7ed9a5320>"
      ]
     },
     "metadata": {},
     "output_type": "display_data"
    }
   ],
   "source": [
    "operators_att = operators_overall.loc[operators_overall['role'] == ('Attacker')]\n",
    "\n",
    "colors = [\"purple\", \"green\", \"blue\", \"pink\", \"brown\", \"red\", \"teal\", \"orange\", \"yellow\", \"grey\", \"cyan\", \"bright green\", \"hot pink\", \"black\", \"off white\", \"tan\", \"pale green\", \"goldenrod\", \"sky blue\", \"white\"]\n",
    "new_palette = sns.xkcd_palette(colors)\n",
    "\n",
    "sns.lmplot(x=\"k/d_ratio\", y=\"win_ratio\", data=operators_att, fit_reg=False, hue='operator', legend=False, palette=new_palette, size=5, aspect=2.5, scatter_kws={\"s\": 75})\n",
    "plt.legend(loc=9, bbox_to_anchor=(0.5, -0.2), ncol=5)\n",
    "plt.title('Correlation between Kill-Death and Win Ratios for Attacker Operators')\n",
    "plt.xlabel('Kill-Death Ratio')\n",
    "plt.ylabel('Win Ratio')\n",
    "sns.plt.show()"
   ]
  },
  {
   "cell_type": "code",
   "execution_count": 10,
   "metadata": {},
   "outputs": [
    {
     "data": {
      "image/png": "[encoded data removed]",
      "text/plain": [
       "<matplotlib.figure.Figure at 0x7fc7ed99ce80>"
      ]
     },
     "metadata": {},
     "output_type": "display_data"
    }
   ],
   "source": [
    "operators_def = operators_overall.loc[operators_overall['role'] == ('Defender')]\n",
    "\n",
    "sns.lmplot(x=\"k/d_ratio\", y=\"win_ratio\", data=operators_def, fit_reg=False, hue='operator', legend=False, palette=new_palette, size=5, aspect=2.5, scatter_kws={\"s\": 75})\n",
    "plt.legend(loc=9, bbox_to_anchor=(0.5, -0.2), ncol=5)\n",
    "plt.title('Correlation between Kill-Death and Win Ratios for Defender Operators')\n",
    "plt.xlabel('Kill-Death Ratio')\n",
    "plt.ylabel('Win Ratio')\n",
    "sns.plt.show()"
   ]
  },
  {
   "cell_type": "code",
   "execution_count": null,
   "metadata": {
    "collapsed": true
   },
   "outputs": [],
   "source": []
  }
 ],
 "metadata": {
  "kernelspec": {
   "display_name": "Python 3",
   "language": "python",
   "name": "python3"
  },
  "language_info": {
   "codemirror_mode": {
    "name": "ipython",
    "version": 3
   },
   "file_extension": ".py",
   "mimetype": "text/x-python",
   "name": "python",
   "nbconvert_exporter": "python",
   "pygments_lexer": "ipython3",
   "version": "3.6.2"
  }
 },
 "nbformat": 4,
 "nbformat_minor": 2
}
