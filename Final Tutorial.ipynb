{
 "cells": [
  {
   "cell_type": "markdown",
   "metadata": {},
   "source": [
    "<img src=\"https://cdn3.dualshockers.com/wp-content/uploads/2015/11/Tom-Clancys-Rainbow-Six-Siege.jpg\" alt=\"Drawing\" style=\"width: 700px;\"/>\n",
    "<center>\n",
    "<h1 style=\"font-size:36px;\">Analyzing Rainbow Six Siege</h1>\n",
    "<h4>\n",
    "Charles Liu, Jules Iglesia</h4>\n",
    "<hr>\n",
    "</center>\n",
    "<h2>Introduction</h2>\n",
    "<body><p>\n",
    "Rainbow Six Siege (R6S) is a MMORTG (Massively Multiplayer Online Real Time Strategy) first-person shooter game developed by Ubisoft. Released in December 2015, Siege only recently gained popularity and boasts 2.3 million players daily with over 20 million registered users. The premise of the game is simple: each game consists of two teams of 5 players, with one team labeled as the Attackers and one as the Defenders. Attackers are assigned a goal depending on the game mode, which ranges from extracting a hostage from a building or planting/detonating a bomb in a building. Each game consists of best of 5 or 7 rounds, with each round ending if the Attackers objective is completed within a timeframe, time runs out, or all members of one side are eliminated. Players can choose from 18 maps, 28 unique characters, and what loadouts (primary weapon, secondary weapon, etc.) to use. \n",
    "<p>\n",
    "On June 27, 2017, a Game Intelligence Analyst on the Ubisoft R6S Development Team released datasets covering various metrics from in-game data. Along with this <a href=\"https://rainbow6.ubisoft.com/siege/en-us/news/152-293696-16/introduction-to-the-data-peek-velvet-shell-statistics\">data release</a>, he revealed that analysts at Ubisoft work with several different teams and play an important role in the overall development of the game. Given the interesting statistics they were able to find, the Development Team decided to release some in-game data as a way to allow members of the community to conduct some of their own data analyses.\n",
    "<p> \n",
    "In this tutorial, our goal is to tidy the in-game data given to us, provide valuable insight into which operators/loadouts are the most successful in terms of win rate/KDA, and predict these win/kill-death ratios when a certain character and loadout are chosen in different situations. For readers unfamiliar with this game, we hope this analyses will make them interested in trying out Rainbow Six Siege and provide some evidence on which operators are best to pick starting out as a new player. For experienced players, we hope to show interesting statistics and maybe even give them new things to try. \n",
    "</body>\n",
    "<hr>\n",
    "<h2> Scraping the Data</h2>\n",
    "<body><p>\n",
    "With the provided datasets, it is simple enough to separate the data by rank (explained <a href=\"https://support.ubi.com/en-US/Faqs/000024743/How-Does-Rank-Work-in-R6-Siege\">here</a>). In this context, a player is given a certain rank based on how well he/she performs and the outcome of each match. Understanding which operators and which weapons are commonly used in higher ranks could motivate players who are in lower Ranks to try out new strategies and change up their playstyles. \n",
    "</body>"
   ]
  },
  {
   "cell_type": "code",
   "execution_count": null,
   "metadata": {
    "collapsed": true
   },
   "outputs": [],
   "source": []
  }
 ],
 "metadata": {
  "kernelspec": {
   "display_name": "Python 3",
   "language": "python",
   "name": "python3"
  },
  "language_info": {
   "codemirror_mode": {
    "name": "ipython",
    "version": 3
   },
   "file_extension": ".py",
   "mimetype": "text/x-python",
   "name": "python",
   "nbconvert_exporter": "python",
   "pygments_lexer": "ipython3",
   "version": "3.6.2"
  }
 },
 "nbformat": 4,
 "nbformat_minor": 2
}
