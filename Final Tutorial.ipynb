{
 "cells": [
  {
   "cell_type": "markdown",
   "metadata": {},
   "source": [
    "<img src=\"https://cdn3.dualshockers.com/wp-content/uploads/2015/11/Tom-Clancys-Rainbow-Six-Siege.jpg\" alt=\"Drawing\" style=\"width: 700px;\"/>\n",
    "<center>\n",
    "<h1 style=\"font-size:36px;\">Analyzing Rainbow Six Siege</h1>\n",
    "<h4>\n",
    "Charles Liu, Jules Iglesia</h4>\n",
    "<hr style=\"height:2px\" /hr>\n",
    "</center>\n",
    "<h2>\n",
    "Introduction</h2>\n",
    "<body>\n",
    "Rainbow Six Siege is a MMORTG (Massively Multiplayer Online Real Time Strategy) first-person shooter game.  "
   ]
  },
  {
   "cell_type": "code",
   "execution_count": null,
   "metadata": {
    "collapsed": true
   },
   "outputs": [],
   "source": []
  }
 ],
 "metadata": {
  "kernelspec": {
   "display_name": "Python 3",
   "language": "python",
   "name": "python3"
  },
  "language_info": {
   "codemirror_mode": {
    "name": "ipython",
    "version": 3
   },
   "file_extension": ".py",
   "mimetype": "text/x-python",
   "name": "python",
   "nbconvert_exporter": "python",
   "pygments_lexer": "ipython3",
   "version": "3.6.2"
  }
 },
 "nbformat": 4,
 "nbformat_minor": 2
}
